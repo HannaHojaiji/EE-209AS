{
 "cells": [
  {
   "cell_type": "code",
   "execution_count": 2,
   "metadata": {},
   "outputs": [],
   "source": [
    "#Hananneh Hojaiji Analysis\n",
    "# All needed libraries\n",
    "import numpy as np\n",
    "import matplotlib.pyplot as plt\n",
    "from datetime import datetime\n",
    "from os.path import join\n",
    "\n",
    "import warnings\n",
    "warnings.filterwarnings('ignore')"
   ]
  },
  {
   "cell_type": "code",
   "execution_count": 3,
   "metadata": {},
   "outputs": [],
   "source": [
    "case = ['PHONE_ACC','eSENSE_ACC','PHONE_GYRO', 'eSENSE_GYRO']"
   ]
  },
  {
   "cell_type": "markdown",
   "metadata": {},
   "source": [
    "### Accelerometer Data for Phone (Case 7)\n"
   ]
  },
  {
   "cell_type": "code",
   "execution_count": 14,
   "metadata": {},
   "outputs": [
    {
     "name": "stdout",
     "output_type": "stream",
     "text": [
      "4_eSENSE_ACC_DATA.txt\n"
     ]
    },
    {
     "data": {
      "image/png": "[encoded data removed]",
      "text/plain": [
       "<Figure size 432x288 with 2 Axes>"
      ]
     },
     "metadata": {
      "needs_background": "light"
     },
     "output_type": "display_data"
    }
   ],
   "source": [
    "ap_x = []\n",
    "ap_y = []\n",
    "ap_z = []\n",
    "ae_x = []\n",
    "ae_y = []\n",
    "ae_z = []\n",
    "for i in range(4, 5):\n",
    "    #collect phone accelerometer\n",
    "    with open('C:/Users/sihan/Box/UCLA_PhD/2019-20/Winter20/ECE209/Repository for 3-14-2020/EE-209AS/Gyro_Acc_Watch-Collected-Data-0314/209AS_DATA/'\n",
    "              +str(i)+'_'+case[1]+'_DATA.txt', \"r\", encoding=\"utf8\") as filestream:\n",
    "        print (str(i)+'_'+case[1]+'_DATA.txt')\n",
    "        for line in filestream:\n",
    "            if line.strip('\\n'):\n",
    "                currentline = line.rstrip('\\n').split(\",\")\n",
    "                #print (currentline)\n",
    "                timestamp_p = datetime.strptime(currentline[1],'%H:%M:%S').time()           \n",
    "                #print (timestamp_p)\n",
    "                ap_x.append(float(currentline[2]))\n",
    "                ap_y.append(float(currentline [3]))\n",
    "                ap_z.append(float(currentline [4]))\n",
    "        #filestream.close() \n",
    "    #collect earphone accelerometer\n",
    "    with open('C:/Users/sihan/Box/UCLA_PhD/2019-20/Winter20/ECE209/Repository for 3-14-2020/EE-209AS/Gyro_Acc_Watch-Collected-Data-0314/209AS_DATA/'\n",
    "              +str(i)+'_'+case[2]+'_DATA.txt', \"r\", encoding=\"utf8\") as filestream:\n",
    "        for line in filestream:\n",
    "            if line.strip('\\n'):\n",
    "                currentline = line.rstrip('\\n').split(\",\")\n",
    "                timestamp_e = datetime.strptime(currentline[1],'%H:%M:%S').time() \n",
    "                ae_x.append(float(currentline[2])) \n",
    "                ae_y.append(float(currentline [3]))\n",
    "                ae_z.append(float(currentline [4]))\n",
    "        #filestream.close()  \n",
    "   # with open(\"C:/Users/sihan/Box/UCLA_PhD/2019-20/Winter20/ECE209/Repository for 3-14-2020/EE-209AS/Data Analysis for Adversarial Models/\" + \"Accelerometer data.txt\", \"w\") as filestreamtwo:\n",
    "   #     total = str(ap_x + ap_y + ap_z + ae_x + ae_y + ae_z)\n",
    "   #     filestreamtwo.write(total)\n",
    "    #filestreamtwo.close() \n",
    "   # print (\"Files aggregated for accelerometer\")\n",
    "\n",
    "    plt.subplot(2, 1, 1)\n",
    "    plt.plot(ap_x, '.-')#timestamp_p\n",
    "    plt.title('X-Axis Accelerometer')\n",
    "    plt.xlabel('time (s)')\n",
    "    plt.ylabel('Phone X acceleration')\n",
    "    # beautify the x-labels\n",
    "    plt.gcf().autofmt_xdate()\n",
    "    \n",
    "    plt.subplot(2, 1, 2)\n",
    "    plt.plot( ae_x, '.-')#timestamp_e\n",
    "    plt.xlabel('time (s)')\n",
    "    plt.ylabel('Earphone X acceleration')\n",
    "    # beautify the x-labels\n",
    "    plt.gcf().autofmt_xdate()\n",
    "    plt.show()          \n"
   ]
  },
  {
   "cell_type": "markdown",
   "metadata": {},
   "source": [
    "### Accelerometer Data for Earphone (Case 7)\n"
   ]
  },
  {
   "cell_type": "code",
   "execution_count": 16,
   "metadata": {},
   "outputs": [
    {
     "name": "stdout",
     "output_type": "stream",
     "text": [
      "1900-01-01 14:46:14\n"
     ]
    },
    {
     "ename": "IndexError",
     "evalue": "list index out of range",
     "output_type": "error",
     "traceback": [
      "\u001b[1;31m---------------------------------------------------------------------------\u001b[0m",
      "\u001b[1;31mIndexError\u001b[0m                                Traceback (most recent call last)",
      "\u001b[1;32m<ipython-input-16-8696de04f140>\u001b[0m in \u001b[0;36m<module>\u001b[1;34m\u001b[0m\n\u001b[0;32m     12\u001b[0m             \u001b[0mcurrentline\u001b[0m \u001b[1;33m=\u001b[0m \u001b[0mline\u001b[0m\u001b[1;33m.\u001b[0m\u001b[0mrstrip\u001b[0m\u001b[1;33m(\u001b[0m\u001b[1;34m'\\n'\u001b[0m\u001b[1;33m)\u001b[0m\u001b[1;33m.\u001b[0m\u001b[0msplit\u001b[0m\u001b[1;33m(\u001b[0m\u001b[1;34m\",\"\u001b[0m\u001b[1;33m)\u001b[0m\u001b[1;33m\u001b[0m\u001b[1;33m\u001b[0m\u001b[0m\n\u001b[0;32m     13\u001b[0m             \u001b[1;31m#print (currentline)\u001b[0m\u001b[1;33m\u001b[0m\u001b[1;33m\u001b[0m\u001b[1;33m\u001b[0m\u001b[0m\n\u001b[1;32m---> 14\u001b[1;33m             \u001b[0mtimestamp_p\u001b[0m \u001b[1;33m=\u001b[0m \u001b[0mdatetime\u001b[0m\u001b[1;33m.\u001b[0m\u001b[0mstrptime\u001b[0m\u001b[1;33m(\u001b[0m\u001b[0mcurrentline\u001b[0m\u001b[1;33m[\u001b[0m\u001b[1;36m1\u001b[0m\u001b[1;33m]\u001b[0m\u001b[1;33m,\u001b[0m\u001b[1;34m'%H:%M:%S'\u001b[0m\u001b[1;33m)\u001b[0m\u001b[1;33m\u001b[0m\u001b[1;33m\u001b[0m\u001b[0m\n\u001b[0m\u001b[0;32m     15\u001b[0m             \u001b[0mprint\u001b[0m \u001b[1;33m(\u001b[0m\u001b[0mtimestamp_p\u001b[0m\u001b[1;33m)\u001b[0m\u001b[1;33m\u001b[0m\u001b[1;33m\u001b[0m\u001b[0m\n\u001b[0;32m     16\u001b[0m             \u001b[0mgp_x\u001b[0m\u001b[1;33m.\u001b[0m\u001b[0mappend\u001b[0m\u001b[1;33m(\u001b[0m\u001b[0mfloat\u001b[0m\u001b[1;33m(\u001b[0m\u001b[0mcurrentline\u001b[0m\u001b[1;33m[\u001b[0m\u001b[1;36m2\u001b[0m\u001b[1;33m]\u001b[0m\u001b[1;33m)\u001b[0m\u001b[1;33m)\u001b[0m\u001b[1;33m\u001b[0m\u001b[1;33m\u001b[0m\u001b[0m\n",
      "\u001b[1;31mIndexError\u001b[0m: list index out of range"
     ]
    }
   ],
   "source": [
    "gp_x = []\n",
    "gp_y = []\n",
    "gp_z = []\n",
    "ge_x = []\n",
    "ge_y = []\n",
    "ge_z = []\n",
    "for i in range(4, 5):\n",
    "    #collect phone accelerometer\n",
    "    with open('C:/Users/sihan/Box/UCLA_PhD/2019-20/Winter20/ECE209/Repository for 3-14-2020/EE-209AS/Gyro_Acc_Watch-Collected-Data-0314/209AS_DATA/'\n",
    "              +str(i)+'_'+case[3]+'_DATA.txt',\"r\", encoding=\"utf8\") as filestream:\n",
    "        for line in filestream:\n",
    "            if line.strip('\\n'):\n",
    "                currentline = line.rstrip('\\n').split(\",\")\n",
    "                #print (currentline)\n",
    "                timestamp_p = datetime.strptime(currentline[1],'%H:%M:%S')         \n",
    "                print (timestamp_p)\n",
    "                gp_x.append(float(currentline[2])) \n",
    "                gp_y.append(float(currentline [3]))\n",
    "                gp_z.append(float(currentline [4]))\n",
    "        #filestream.close() \n",
    "    #collect earphone accelerometer\n",
    "    with open('C:/Users/sihan/Box/UCLA_PhD/2019-20/Winter20/ECE209/Repository for 3-14-2020/EE-209AS/Gyro_Acc_Watch-Collected-Data-0314/209AS_DATA/'\n",
    "              +str(i)+'_'+case[4]+'_DATA.txt',\"r\", encoding=\"utf8\") as filestream:\n",
    "        for line in filestream:\n",
    "            if line.strip('\\n'):\n",
    "                currentline = line.rstrip('\\n').split(\",\")\n",
    "                timestamp_e = datetime.strptime(currentline[1],'%H:%M:%S') \n",
    "                ge_x.append(float(currentline[2])) \n",
    "                ge_y.append(float(currentline [3]))\n",
    "                ge_z.append(float(currentline [4]))\n",
    "        #filestream.close()  \n",
    "    #with open(\"C:/Users/sihan/Box/UCLA_PhD/2019-20/Winter20/ECE209/Repository for 3-14-2020/EE-209AS/Data Analysis for Adversarial Models/\" + \"Gyroscope data.txt\", \"w\") as filestreamtwo:\n",
    "    #    total = str(gp_x + gp_y + gp_z + ge_x + ge_y + ge_z)\n",
    "    #    filestreamtwo.write(total)\n",
    "    #filestreamtwo.close()          \n",
    "    print (\"Files aggregated for gyroscope\")\n",
    "    \n",
    "    plt.subplot(2, 1, 1)\n",
    "    plt.plot(timestamp_p, ap_x, '.-')\n",
    "    plt.title('X-Axis Gyroscope')\n",
    "    plt.xlabel('time (s)')\n",
    "    plt.ylabel('Phone X gyroscope')\n",
    "    plt.subplot(2, 1, 2)\n",
    "    plt.plot(timestamp_e, ae_x, '.-')\n",
    "    plt.xlabel('time (s)')\n",
    "    plt.ylabel('Earphone X gyroscope')\n",
    "    plt.show()  \n",
    "    \n",
    "            "
   ]
  }
 ],
 "metadata": {
  "kernelspec": {
   "display_name": "Python 3",
   "language": "python",
   "name": "python3"
  },
  "language_info": {
   "codemirror_mode": {
    "name": "ipython",
    "version": 3
   },
   "file_extension": ".py",
   "mimetype": "text/x-python",
   "name": "python",
   "nbconvert_exporter": "python",
   "pygments_lexer": "ipython3",
   "version": "3.7.4"
  }
 },
 "nbformat": 4,
 "nbformat_minor": 2
}
