{
 "cells": [
  {
   "cell_type": "code",
   "execution_count": 3,
   "metadata": {},
   "outputs": [],
   "source": [
    "#Hananneh Hojaiji Analysis\n",
    "# All needed libraries\n",
    "import numpy as np\n",
    "import matplotlib.pyplot as plt\n",
    "import pandas as pd\n",
    "import json\n",
    "from datetime import datetime\n",
    "from os.path import join\n",
    "\n",
    "import warnings\n",
    "warnings.filterwarnings('ignore')"
   ]
  },
  {
   "cell_type": "code",
   "execution_count": 5,
   "metadata": {},
   "outputs": [],
   "source": [
    "case = ['PHONE_ACC','eSENSE_ACC','PHONE_GYRO', 'eSENSE_GYRO']"
   ]
  },
  {
   "cell_type": "markdown",
   "metadata": {},
   "source": [
    "### Accelerometer Data for Phone (Case 7)\n"
   ]
  },
  {
   "cell_type": "code",
   "execution_count": 20,
   "metadata": {},
   "outputs": [
    {
     "name": "stdout",
     "output_type": "stream",
     "text": [
      "4_eSENSE_ACC_DATA.txt\n",
      "['03-13-2020', ' 17:24:11-0.9542236328125', '-0.1766357421875', '0.2301025390625\\n']\n"
     ]
    },
    {
     "ename": "ValueError",
     "evalue": "invalid literal for int() with base 10: ' 17:24:11-0.9542236328125'",
     "output_type": "error",
     "traceback": [
      "\u001b[1;31m---------------------------------------------------------------------------\u001b[0m",
      "\u001b[1;31mValueError\u001b[0m                                Traceback (most recent call last)",
      "\u001b[1;32m<ipython-input-20-28cad67d1480>\u001b[0m in \u001b[0;36m<module>\u001b[1;34m\u001b[0m\n\u001b[0;32m      7\u001b[0m             \u001b[0mcurrentline\u001b[0m \u001b[1;33m=\u001b[0m \u001b[0mline\u001b[0m\u001b[1;33m.\u001b[0m\u001b[0msplit\u001b[0m\u001b[1;33m(\u001b[0m\u001b[1;34m\",\"\u001b[0m\u001b[1;33m)\u001b[0m\u001b[1;33m\u001b[0m\u001b[1;33m\u001b[0m\u001b[0m\n\u001b[0;32m      8\u001b[0m             \u001b[0mprint\u001b[0m \u001b[1;33m(\u001b[0m\u001b[0mcurrentline\u001b[0m\u001b[1;33m)\u001b[0m\u001b[1;33m\u001b[0m\u001b[1;33m\u001b[0m\u001b[0m\n\u001b[1;32m----> 9\u001b[1;33m             \u001b[0mtimestamp_p\u001b[0m \u001b[1;33m=\u001b[0m \u001b[0mint\u001b[0m\u001b[1;33m(\u001b[0m\u001b[0mcurrentline\u001b[0m\u001b[1;33m[\u001b[0m\u001b[1;36m1\u001b[0m\u001b[1;33m]\u001b[0m\u001b[1;33m)\u001b[0m\u001b[1;33m\u001b[0m\u001b[1;33m\u001b[0m\u001b[0m\n\u001b[0m\u001b[0;32m     10\u001b[0m             \u001b[0mprint\u001b[0m \u001b[1;33m(\u001b[0m\u001b[0mtimestamp_p\u001b[0m\u001b[1;33m)\u001b[0m\u001b[1;33m\u001b[0m\u001b[1;33m\u001b[0m\u001b[0m\n\u001b[0;32m     11\u001b[0m             \u001b[0map_x\u001b[0m \u001b[1;33m=\u001b[0m \u001b[0mfloat\u001b[0m\u001b[1;33m(\u001b[0m\u001b[0mcurrentline\u001b[0m\u001b[1;33m[\u001b[0m\u001b[1;36m2\u001b[0m\u001b[1;33m]\u001b[0m\u001b[1;33m)\u001b[0m\u001b[1;33m\u001b[0m\u001b[1;33m\u001b[0m\u001b[0m\n",
      "\u001b[1;31mValueError\u001b[0m: invalid literal for int() with base 10: ' 17:24:11-0.9542236328125'"
     ]
    }
   ],
   "source": [
    "for i in range(4, 8):\n",
    "    #collect phone accelerometer\n",
    "    with open('C:/Users/sihan/Box/UCLA_PhD/2019-20/Winter20/ECE209/Repository for 3-14-2020/EE-209AS/Gyro_Acc_Watch-Collected-Data/209AS_DATA/'\n",
    "              +str(i)+'_'+case[1]+'_DATA.txt', \"r\", encoding=\"utf8\") as filestream:\n",
    "        print (str(i)+'_'+case[1]+'_DATA.txt')\n",
    "        for line in filestream:\n",
    "            currentline = line.split(\",\")\n",
    "            print (currentline)\n",
    "            timestamp_p = int(currentline[1])           \n",
    "            print (timestamp_p)\n",
    "            ap_x = float(currentline[2]) \n",
    "            ap_y = float(currentline [3])\n",
    "            ap_z = float(currentline [4])\n",
    "    filestream.close() \n",
    "    #collect earphone accelerometer\n",
    "    with open('C:/Users/sihan/Box/UCLA_PhD/2019-20/Winter20/ECE209/Repository for 3-14-2020/EE-209AS/Gyro_Acc_Watch-Collected-Data/209AS_DATA/'\n",
    "              +str(i)+'_'+case[2]+'_DATA.txt', \"r\", encoding=\"utf8\") as filestream:\n",
    "        for line in filestream:\n",
    "            currentline = line.split(\",\")\n",
    "            timestamp_e = int(currentline[1]) \n",
    "            ae_x = float(currentline[2]) \n",
    "            ae_y = float(currentline [3])\n",
    "            ae_z = float(currentline [4])\n",
    "        filestream.close()  \n",
    "    with open(\"C:/Users/sihan/Box/UCLA_PhD/2019-20/Winter20/ECE209/Repository for 3-14-2020/EE-209AS/Data Analysis for Adversarial Models/\" + \"Accelerometer data.txt\", \"w\") as filestreamtwo:\n",
    "        total = str(ap_x + ap_y + ap_z + ae_x + ae_y + ae_z)\n",
    "        filestreamtwo.write(total)\n",
    "    filestreamtwo.close() \n",
    "    print (\"Files aggregated for accelerometer\")\n",
    "\n",
    "    plt.subplot(2, 1, 1)\n",
    "    plt.plot(timestamp_p, ap_x, '.-')\n",
    "    plt.title('X-Axis Accelerometer')\n",
    "    plt.xlabel('time (s)')\n",
    "    plt.ylabel('Phone X acceleration')\n",
    "    plt.subplot(2, 1, 2)\n",
    "    plt.plot(timestamp_e, ae_x, '.-')\n",
    "    plt.xlabel('time (s)')\n",
    "    plt.ylabel('Earphone X acceleration')\n",
    "    plt.show()          \n"
   ]
  },
  {
   "cell_type": "markdown",
   "metadata": {},
   "source": [
    "### Accelerometer Data for Earphone (Case 7)\n"
   ]
  },
  {
   "cell_type": "code",
   "execution_count": 16,
   "metadata": {},
   "outputs": [
    {
     "ename": "SyntaxError",
     "evalue": "positional argument follows keyword argument (<ipython-input-16-542f5e139e65>, line 4)",
     "output_type": "error",
     "traceback": [
      "\u001b[1;36m  File \u001b[1;32m\"<ipython-input-16-542f5e139e65>\"\u001b[1;36m, line \u001b[1;32m4\u001b[0m\n\u001b[1;33m    +str(i)+'_'+case[3]+'_DATA.txt', encoding=\"utf8\", \"r\") as filestream:\u001b[0m\n\u001b[1;37m                                                     ^\u001b[0m\n\u001b[1;31mSyntaxError\u001b[0m\u001b[1;31m:\u001b[0m positional argument follows keyword argument\n"
     ]
    }
   ],
   "source": [
    "for i in range(4, 8):\n",
    "    #collect phone accelerometer\n",
    "    with open('C:/Users/sihan/Box/UCLA_PhD/2019-20/Winter20/ECE209/Repository for 3-14-2020/EE-209AS/Gyro_Acc_Watch-Collected-Data/209AS_DATA/'\n",
    "              +str(i)+'_'+case[3]+'_DATA.txt',\"r\", encoding=\"utf8\") as filestream:\n",
    "        for line in filestream:\n",
    "            currentline = line.split(\",\")\n",
    "            print (currentline)\n",
    "            timestamp_p = int(currentline[1])           \n",
    "            print (timestamp_p)\n",
    "            gp_x = float(currentline[2]) \n",
    "            gp_y = float(currentline [3])\n",
    "            gp_z = float(currentline [4])\n",
    "        filestream.close() \n",
    "    #collect earphone accelerometer\n",
    "    with open('C:/Users/sihan/Box/UCLA_PhD/2019-20/Winter20/ECE209/Repository for 3-14-2020/EE-209AS/Gyro_Acc_Watch-Collected-Data/209AS_DATA/'\n",
    "              +str(i)+'_'+case[4]+'_DATA.txt',\"r\", encoding=\"utf8\") as filestream:\n",
    "        for line in filestream:\n",
    "            currentline = line.split(\",\")\n",
    "            timestamp_e = int(currentline[1]) \n",
    "            ge_x = float(currentline[2]) \n",
    "            ge_y = float(currentline [3])\n",
    "            ge_z = float(currentline [4])\n",
    "        filestream.close()  \n",
    "    with open(\"C:/Users/sihan/Box/UCLA_PhD/2019-20/Winter20/ECE209/Repository for 3-14-2020/EE-209AS/Data Analysis for Adversarial Models/\" + \"Gyroscope data.txt\", \"w\") as filestreamtwo:\n",
    "        total = str(gp_x + gp_y + gp_z + ge_x + ge_y + ge_z)\n",
    "        filestreamtwo.write(total)\n",
    "    filestreamtwo.close()          \n",
    "    print (\"Files aggregated for gyroscope\")\n",
    "    \n",
    "    plt.subplot(2, 1, 1)\n",
    "    plt.plot(timestamp_p, ap_x, '.-')\n",
    "    plt.title('X-Axis Gyroscope')\n",
    "    plt.xlabel('time (s)')\n",
    "    plt.ylabel('Phone X gyroscope')\n",
    "    plt.subplot(2, 1, 2)\n",
    "    plt.plot(timestamp_e, ae_x, '.-')\n",
    "    plt.xlabel('time (s)')\n",
    "    plt.ylabel('Earphone X gyroscope')\n",
    "    plt.show()  \n",
    "    \n",
    "            "
   ]
  }
 ],
 "metadata": {
  "kernelspec": {
   "display_name": "Python 3",
   "language": "python",
   "name": "python3"
  },
  "language_info": {
   "codemirror_mode": {
    "name": "ipython",
    "version": 3
   },
   "file_extension": ".py",
   "mimetype": "text/x-python",
   "name": "python",
   "nbconvert_exporter": "python",
   "pygments_lexer": "ipython3",
   "version": "3.7.4"
  }
 },
 "nbformat": 4,
 "nbformat_minor": 2
}
